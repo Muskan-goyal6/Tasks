{
  "nbformat": 4,
  "nbformat_minor": 0,
  "metadata": {
    "colab": {
      "name": "Planet_Understanding.ipynb",
      "provenance": [],
      "collapsed_sections": [],
      "toc_visible": true,
      "machine_shape": "hm"
    },
    "kernelspec": {
      "name": "python3",
      "display_name": "Python 3"
    },
    "accelerator": "GPU"
  },
  "cells": [
    {
      "cell_type": "markdown",
      "metadata": {
        "id": "nZgSB-tJiYbY",
        "colab_type": "text"
      },
      "source": [
        "# Planet: Understanding the Amazon from Space"
      ]
    },
    {
      "cell_type": "code",
      "metadata": {
        "id": "oWhEAfPmIMI-",
        "colab_type": "code",
        "colab": {}
      },
      "source": [
        "from google.colab import drive\n",
        "drive.mount('/content/drive')"
      ],
      "execution_count": 0,
      "outputs": []
    },
    {
      "cell_type": "code",
      "metadata": {
        "id": "aj3Tw1H2ig3r",
        "colab_type": "code",
        "colab": {}
      },
      "source": [
        "import warnings\n",
        "warnings.filterwarnings('ignore')"
      ],
      "execution_count": 0,
      "outputs": []
    },
    {
      "cell_type": "code",
      "metadata": {
        "id": "LZWpxe7oQtMK",
        "colab_type": "code",
        "colab": {}
      },
      "source": [
        "import os"
      ],
      "execution_count": 0,
      "outputs": []
    },
    {
      "cell_type": "code",
      "metadata": {
        "id": "muPyxA1LiXvf",
        "colab_type": "code",
        "colab": {}
      },
      "source": [
        "import numpy as np\n",
        "import pandas as pd\n",
        "import matplotlib.pyplot as plt"
      ],
      "execution_count": 0,
      "outputs": []
    },
    {
      "cell_type": "code",
      "metadata": {
        "id": "6mOq4nwHiuCT",
        "colab_type": "code",
        "outputId": "c27af0a0-0f2b-488d-916f-2daabeb9bdad",
        "colab": {
          "base_uri": "https://localhost:8080/",
          "height": 98
        }
      },
      "source": [
        "import keras"
      ],
      "execution_count": 0,
      "outputs": [
        {
          "output_type": "stream",
          "text": [
            "Using TensorFlow backend.\n"
          ],
          "name": "stderr"
        },
        {
          "output_type": "display_data",
          "data": {
            "text/html": [
              "<p style=\"color: red;\">\n",
              "The default version of TensorFlow in Colab will soon switch to TensorFlow 2.x.<br>\n",
              "We recommend you <a href=\"https://www.tensorflow.org/guide/migrate\" target=\"_blank\">upgrade</a> now \n",
              "or ensure your notebook will continue to use TensorFlow 1.x via the <code>%tensorflow_version 1.x</code> magic:\n",
              "<a href=\"https://colab.research.google.com/notebooks/tensorflow_version.ipynb\" target=\"_blank\">more info</a>.</p>\n"
            ],
            "text/plain": [
              "<IPython.core.display.HTML object>"
            ]
          },
          "metadata": {
            "tags": []
          }
        }
      ]
    },
    {
      "cell_type": "code",
      "metadata": {
        "id": "0fgJELU3joIt",
        "colab_type": "code",
        "colab": {}
      },
      "source": [
        "from pathlib import Path"
      ],
      "execution_count": 0,
      "outputs": []
    },
    {
      "cell_type": "markdown",
      "metadata": {
        "id": "foDAuFJ_i17q",
        "colab_type": "text"
      },
      "source": [
        "### Data Collection"
      ]
    },
    {
      "cell_type": "code",
      "metadata": {
        "id": "GvxF8Iftizct",
        "colab_type": "code",
        "colab": {}
      },
      "source": [
        "!mkdir .kaggle"
      ],
      "execution_count": 0,
      "outputs": []
    },
    {
      "cell_type": "code",
      "metadata": {
        "id": "OzuBTwMQjEnx",
        "colab_type": "code",
        "colab": {}
      },
      "source": [
        "from google.colab import files\n",
        "files.upload()"
      ],
      "execution_count": 0,
      "outputs": []
    },
    {
      "cell_type": "code",
      "metadata": {
        "id": "WO6UCESOjGpL",
        "colab_type": "code",
        "colab": {}
      },
      "source": [
        "!cp kaggle.json  ~/.kaggle/"
      ],
      "execution_count": 0,
      "outputs": []
    },
    {
      "cell_type": "code",
      "metadata": {
        "id": "wTUclhpHjMhm",
        "colab_type": "code",
        "colab": {}
      },
      "source": [
        "!chmod 600 /root/.kaggle/kaggle.json"
      ],
      "execution_count": 0,
      "outputs": []
    },
    {
      "cell_type": "markdown",
      "metadata": {
        "id": "S8xwG8YEj4fI",
        "colab_type": "text"
      },
      "source": [
        "### Downloading the dataset"
      ]
    },
    {
      "cell_type": "code",
      "metadata": {
        "id": "4S0hPRxdkAbC",
        "colab_type": "code",
        "colab": {}
      },
      "source": [
        "path = Path('planet/')"
      ],
      "execution_count": 0,
      "outputs": []
    },
    {
      "cell_type": "code",
      "metadata": {
        "id": "2xKB7o5DkHun",
        "colab_type": "code",
        "colab": {}
      },
      "source": [
        "path.mkdir(parents=True, exist_ok=True)"
      ],
      "execution_count": 0,
      "outputs": []
    },
    {
      "cell_type": "markdown",
      "metadata": {
        "id": "QqGOk-xfmMXX",
        "colab_type": "text"
      },
      "source": [
        "###### Download and Extract the data fils"
      ]
    },
    {
      "cell_type": "code",
      "metadata": {
        "id": "eiG-Wh2Ojj30",
        "colab_type": "code",
        "outputId": "fb687c93-45b2-43eb-9b5b-da73666c47db",
        "colab": {
          "base_uri": "https://localhost:8080/",
          "height": 69
        }
      },
      "source": [
        "# download and unzip train-jpg\n",
        "!kaggle competitions download -c planet-understanding-the-amazon-from-space -f train-jpg.tar.7z -p {path}\n",
        "!7za -bd -y -so x {path}/train-jpg.tar.7z | tar xf - -C {path.as_posix()}"
      ],
      "execution_count": 0,
      "outputs": [
        {
          "output_type": "stream",
          "text": [
            "Downloading train-jpg.tar.7z to planet\n",
            " 97% 582M/600M [00:05<00:00, 58.4MB/s]\n",
            "100% 600M/600M [00:06<00:00, 104MB/s] \n"
          ],
          "name": "stdout"
        }
      ]
    },
    {
      "cell_type": "code",
      "metadata": {
        "id": "1c1AgkUPk_9W",
        "colab_type": "code",
        "outputId": "35852aec-60b3-4e8b-ccb8-bab942d8b95f",
        "colab": {
          "base_uri": "https://localhost:8080/",
          "height": 69
        }
      },
      "source": [
        "# download and unzip test-jpg\n",
        "!kaggle competitions download -c planet-understanding-the-amazon-from-space -f test-jpg.tar.7z -p {path}\n",
        "! 7za -bd -y -so x {path}/test-jpg.tar.7z | tar xf - -C {path.as_posix()}"
      ],
      "execution_count": 0,
      "outputs": [
        {
          "output_type": "stream",
          "text": [
            "Downloading test-jpg.tar.7z to planet\n",
            "100% 603M/603M [00:05<00:00, 124MB/s]\n",
            "100% 603M/603M [00:05<00:00, 110MB/s]\n"
          ],
          "name": "stdout"
        }
      ]
    },
    {
      "cell_type": "code",
      "metadata": {
        "id": "OLC2GIbxlLah",
        "colab_type": "code",
        "outputId": "08431e9b-81c2-4e1a-d97e-47b0551469eb",
        "colab": {
          "base_uri": "https://localhost:8080/",
          "height": 69
        }
      },
      "source": [
        "# download and unzip test-jpg-additional\n",
        "!kaggle competitions download -c planet-understanding-the-amazon-from-space -f test-jpg-additional.tar.7z -p {path}\n",
        "!7za -bd -y -so x {path}/test-jpg-additional.tar.7z | tar xf - -C {path.as_posix()}"
      ],
      "execution_count": 0,
      "outputs": [
        {
          "output_type": "stream",
          "text": [
            "Downloading test-jpg-additional.tar.7z to planet\n",
            " 93% 283M/304M [00:04<00:00, 61.5MB/s]\n",
            "100% 304M/304M [00:04<00:00, 71.1MB/s]\n"
          ],
          "name": "stdout"
        }
      ]
    },
    {
      "cell_type": "markdown",
      "metadata": {
        "id": "mRErkPJ4mVLb",
        "colab_type": "text"
      },
      "source": [
        "###### Download and Extract the metadata files"
      ]
    },
    {
      "cell_type": "code",
      "metadata": {
        "id": "z_o8ifT1lYzV",
        "colab_type": "code",
        "outputId": "b5b1698d-f974-498e-8052-2ca9bd4ae694",
        "colab": {
          "base_uri": "https://localhost:8080/",
          "height": 69
        }
      },
      "source": [
        "# download and unzip csv files\n",
        "!kaggle competitions download -c planet-understanding-the-amazon-from-space -f train_v2.csv -p {path}\n",
        "!unzip -q -n {path}/train_v2.csv.zip -d {path}\n"
      ],
      "execution_count": 0,
      "outputs": [
        {
          "output_type": "stream",
          "text": [
            "Downloading train_v2.csv.zip to planet\n",
            "\r  0% 0.00/159k [00:00<?, ?B/s]\n",
            "\r100% 159k/159k [00:00<00:00, 50.3MB/s]\n"
          ],
          "name": "stdout"
        }
      ]
    },
    {
      "cell_type": "code",
      "metadata": {
        "id": "C8HOcwlTmriz",
        "colab_type": "code",
        "outputId": "9b6a1d09-9228-4a06-d6a9-d164dca87709",
        "colab": {
          "base_uri": "https://localhost:8080/",
          "height": 69
        }
      },
      "source": [
        "!kaggle competitions download -c planet-understanding-the-amazon-from-space -f test_v2_file_mapping.csv -p {path}\n",
        "! unzip -q -n {path}/test_v2_file_mapping.csv.zip -d {path}\n"
      ],
      "execution_count": 0,
      "outputs": [
        {
          "output_type": "stream",
          "text": [
            "Downloading test_v2_file_mapping.csv.zip to planet\n",
            "\r  0% 0.00/110k [00:00<?, ?B/s]\n",
            "\r100% 110k/110k [00:00<00:00, 33.7MB/s]\n"
          ],
          "name": "stdout"
        }
      ]
    },
    {
      "cell_type": "code",
      "metadata": {
        "id": "Wf2gGsm2mn0e",
        "colab_type": "code",
        "outputId": "ba429c18-0015-426b-9755-66f6d8996939",
        "colab": {
          "base_uri": "https://localhost:8080/",
          "height": 69
        }
      },
      "source": [
        "!kaggle competitions download -c planet-understanding-the-amazon-from-space -f sample_submission_v2.csv -p {path}\n",
        "! unzip -q -n {path}/sample_submission_v2.csv.zip -d {path}\n"
      ],
      "execution_count": 0,
      "outputs": [
        {
          "output_type": "stream",
          "text": [
            "Downloading sample_submission_v2.csv.zip to planet\n",
            "\r  0% 0.00/154k [00:00<?, ?B/s]\n",
            "\r100% 154k/154k [00:00<00:00, 56.3MB/s]\n"
          ],
          "name": "stdout"
        }
      ]
    },
    {
      "cell_type": "markdown",
      "metadata": {
        "id": "lHEox92FnsBG",
        "colab_type": "text"
      },
      "source": [
        "# FastAI"
      ]
    },
    {
      "cell_type": "code",
      "metadata": {
        "id": "2107cTUSpMZ5",
        "colab_type": "code",
        "colab": {}
      },
      "source": [
        "import fastai.vision as fv"
      ],
      "execution_count": 0,
      "outputs": []
    },
    {
      "cell_type": "markdown",
      "metadata": {
        "id": "1TNAC0PapF7B",
        "colab_type": "text"
      },
      "source": [
        "## 1.1 Data Preparation"
      ]
    },
    {
      "cell_type": "code",
      "metadata": {
        "id": "x3A8LN--nreo",
        "colab_type": "code",
        "colab": {}
      },
      "source": [
        "train_df = fv.pd.read_csv(path/'train_v2.csv')\n",
        "sample_df = fv.pd.read_csv(path/'sample_submission_v2.csv')"
      ],
      "execution_count": 0,
      "outputs": []
    },
    {
      "cell_type": "code",
      "metadata": {
        "id": "Wj3HONU2pAr3",
        "colab_type": "code",
        "outputId": "303a6875-4122-4d1d-fb0a-747879b4b2a4",
        "colab": {
          "base_uri": "https://localhost:8080/",
          "height": 206
        }
      },
      "source": [
        "train_df.head()"
      ],
      "execution_count": 0,
      "outputs": [
        {
          "output_type": "execute_result",
          "data": {
            "text/html": [
              "<div>\n",
              "<style scoped>\n",
              "    .dataframe tbody tr th:only-of-type {\n",
              "        vertical-align: middle;\n",
              "    }\n",
              "\n",
              "    .dataframe tbody tr th {\n",
              "        vertical-align: top;\n",
              "    }\n",
              "\n",
              "    .dataframe thead th {\n",
              "        text-align: right;\n",
              "    }\n",
              "</style>\n",
              "<table border=\"1\" class=\"dataframe\">\n",
              "  <thead>\n",
              "    <tr style=\"text-align: right;\">\n",
              "      <th></th>\n",
              "      <th>image_name</th>\n",
              "      <th>tags</th>\n",
              "    </tr>\n",
              "  </thead>\n",
              "  <tbody>\n",
              "    <tr>\n",
              "      <th>0</th>\n",
              "      <td>train_0</td>\n",
              "      <td>haze primary</td>\n",
              "    </tr>\n",
              "    <tr>\n",
              "      <th>1</th>\n",
              "      <td>train_1</td>\n",
              "      <td>agriculture clear primary water</td>\n",
              "    </tr>\n",
              "    <tr>\n",
              "      <th>2</th>\n",
              "      <td>train_2</td>\n",
              "      <td>clear primary</td>\n",
              "    </tr>\n",
              "    <tr>\n",
              "      <th>3</th>\n",
              "      <td>train_3</td>\n",
              "      <td>clear primary</td>\n",
              "    </tr>\n",
              "    <tr>\n",
              "      <th>4</th>\n",
              "      <td>train_4</td>\n",
              "      <td>agriculture clear habitation primary road</td>\n",
              "    </tr>\n",
              "  </tbody>\n",
              "</table>\n",
              "</div>"
            ],
            "text/plain": [
              "  image_name                                       tags\n",
              "0    train_0                               haze primary\n",
              "1    train_1            agriculture clear primary water\n",
              "2    train_2                              clear primary\n",
              "3    train_3                              clear primary\n",
              "4    train_4  agriculture clear habitation primary road"
            ]
          },
          "metadata": {
            "tags": []
          },
          "execution_count": 39
        }
      ]
    },
    {
      "cell_type": "code",
      "metadata": {
        "id": "DHmtkdpYpAbv",
        "colab_type": "code",
        "outputId": "4f6fab72-3ec6-4b79-c696-d343c187fada",
        "colab": {
          "base_uri": "https://localhost:8080/",
          "height": 206
        }
      },
      "source": [
        "sample_df.head()"
      ],
      "execution_count": 0,
      "outputs": [
        {
          "output_type": "execute_result",
          "data": {
            "text/html": [
              "<div>\n",
              "<style scoped>\n",
              "    .dataframe tbody tr th:only-of-type {\n",
              "        vertical-align: middle;\n",
              "    }\n",
              "\n",
              "    .dataframe tbody tr th {\n",
              "        vertical-align: top;\n",
              "    }\n",
              "\n",
              "    .dataframe thead th {\n",
              "        text-align: right;\n",
              "    }\n",
              "</style>\n",
              "<table border=\"1\" class=\"dataframe\">\n",
              "  <thead>\n",
              "    <tr style=\"text-align: right;\">\n",
              "      <th></th>\n",
              "      <th>image_name</th>\n",
              "      <th>tags</th>\n",
              "    </tr>\n",
              "  </thead>\n",
              "  <tbody>\n",
              "    <tr>\n",
              "      <th>0</th>\n",
              "      <td>test_0</td>\n",
              "      <td>primary clear agriculture road water</td>\n",
              "    </tr>\n",
              "    <tr>\n",
              "      <th>1</th>\n",
              "      <td>test_1</td>\n",
              "      <td>primary clear agriculture road water</td>\n",
              "    </tr>\n",
              "    <tr>\n",
              "      <th>2</th>\n",
              "      <td>test_2</td>\n",
              "      <td>primary clear agriculture road water</td>\n",
              "    </tr>\n",
              "    <tr>\n",
              "      <th>3</th>\n",
              "      <td>test_3</td>\n",
              "      <td>primary clear agriculture road water</td>\n",
              "    </tr>\n",
              "    <tr>\n",
              "      <th>4</th>\n",
              "      <td>test_4</td>\n",
              "      <td>primary clear agriculture road water</td>\n",
              "    </tr>\n",
              "  </tbody>\n",
              "</table>\n",
              "</div>"
            ],
            "text/plain": [
              "  image_name                                  tags\n",
              "0     test_0  primary clear agriculture road water\n",
              "1     test_1  primary clear agriculture road water\n",
              "2     test_2  primary clear agriculture road water\n",
              "3     test_3  primary clear agriculture road water\n",
              "4     test_4  primary clear agriculture road water"
            ]
          },
          "metadata": {
            "tags": []
          },
          "execution_count": 40
        }
      ]
    },
    {
      "cell_type": "code",
      "metadata": {
        "id": "XzhzsGQ7pANS",
        "colab_type": "code",
        "colab": {}
      },
      "source": [
        "# data augmentation\n",
        "tfms = fv.get_transforms(flip_vert=True, max_warp=0.)"
      ],
      "execution_count": 0,
      "outputs": []
    },
    {
      "cell_type": "code",
      "metadata": {
        "id": "L9H116A_pC1O",
        "colab_type": "code",
        "colab": {}
      },
      "source": [
        "# loading the data\n",
        "fv.np.random.seed(42)\n",
        "train_src = (fv.ImageList.from_csv(path, 'train_v2.csv', folder='train-jpg', suffix='.jpg').split_by_rand_pct(0.2).label_from_df(label_delim=' '))"
      ],
      "execution_count": 0,
      "outputs": []
    },
    {
      "cell_type": "code",
      "metadata": {
        "id": "CQyOwC9QpCxb",
        "colab_type": "code",
        "colab": {}
      },
      "source": [
        "# databunch and normalization(normalization helps to converge faster)\n",
        "data = (train_src.transform(tfms, size=256).databunch().normalize(fv.imagenet_stats))"
      ],
      "execution_count": 0,
      "outputs": []
    },
    {
      "cell_type": "code",
      "metadata": {
        "id": "gxkTlduSpCs3",
        "colab_type": "code",
        "outputId": "927b8f97-e7f3-4808-c941-3ef27886cee5",
        "colab": {
          "base_uri": "https://localhost:8080/",
          "height": 585
        }
      },
      "source": [
        "data.show_batch(rows=2, figsize=(10, 8))"
      ],
      "execution_count": 0,
      "outputs": [
        {
          "output_type": "display_data",
          "data": {
            "image/png": "[encoded data removed]",
            "text/plain": [
              "<Figure size 720x576 with 4 Axes>"
            ]
          },
          "metadata": {
            "tags": []
          }
        }
      ]
    },
    {
      "cell_type": "markdown",
      "metadata": {
        "id": "dC8YVC3aqXqr",
        "colab_type": "text"
      },
      "source": [
        "## 1.2 Classification Model (what we call learner in FastAI)\n"
      ]
    },
    {
      "cell_type": "code",
      "metadata": {
        "id": "UZLgtlNwqGKX",
        "colab_type": "code",
        "colab": {}
      },
      "source": [
        "# we will use densenet CNN architecture for the classification\n",
        "arch = fv.models.densenet121"
      ],
      "execution_count": 0,
      "outputs": []
    },
    {
      "cell_type": "code",
      "metadata": {
        "id": "_2WD4NEBpCoc",
        "colab_type": "code",
        "colab": {}
      },
      "source": [
        "# partial function creates the  function on the top of existing functions(passed as arguement in the partial function)\n",
        "acc = fv.partial(fv.accuracy_thresh, thresh=0.2)\n",
        "f_score = fv.partial(fv.fbeta, thresh=0.2) # f2_score will be evaluated in the contest"
      ],
      "execution_count": 0,
      "outputs": []
    },
    {
      "cell_type": "code",
      "metadata": {
        "id": "trCTUNw8pCiu",
        "colab_type": "code",
        "colab": {}
      },
      "source": [
        "model = fv.create_cnn(data, arch, metrics=[acc, f_score], model_dir='/kaggle/working/')"
      ],
      "execution_count": 0,
      "outputs": []
    },
    {
      "cell_type": "markdown",
      "metadata": {
        "id": "Iua8MdlXrjTu",
        "colab_type": "text"
      },
      "source": [
        "#### Let's train the model"
      ]
    },
    {
      "cell_type": "code",
      "metadata": {
        "id": "lZM5hwoIpCRi",
        "colab_type": "code",
        "outputId": "c9f691b3-2ed0-498f-cbda-d53e4d3be3ed",
        "colab": {
          "base_uri": "https://localhost:8080/",
          "height": 34
        }
      },
      "source": [
        "model.lr_find()"
      ],
      "execution_count": 0,
      "outputs": [
        {
          "output_type": "display_data",
          "data": {
            "text/html": [
              ""
            ],
            "text/plain": [
              "<IPython.core.display.HTML object>"
            ]
          },
          "metadata": {
            "tags": []
          }
        },
        {
          "output_type": "stream",
          "text": [
            "LR Finder is complete, type {learner_name}.recorder.plot() to see the graph.\n"
          ],
          "name": "stdout"
        }
      ]
    },
    {
      "cell_type": "code",
      "metadata": {
        "id": "utyteNpYpCHg",
        "colab_type": "code",
        "outputId": "28a74e02-650c-4278-f2c0-00f6bd1fbaf6",
        "colab": {
          "base_uri": "https://localhost:8080/",
          "height": 279
        }
      },
      "source": [
        "model.recorder.plot()"
      ],
      "execution_count": 0,
      "outputs": [
        {
          "output_type": "display_data",
          "data": {
            "image/png": "[encoded data removed]",
            "text/plain": [
              "<Figure size 432x288 with 1 Axes>"
            ]
          },
          "metadata": {
            "tags": []
          }
        }
      ]
    },
    {
      "cell_type": "code",
      "metadata": {
        "id": "KkfmTFIqF91R",
        "colab_type": "code",
        "outputId": "9eb96c54-f6e3-4de4-cfc4-6aac3c01ed75",
        "colab": {
          "base_uri": "https://localhost:8080/",
          "height": 34
        }
      },
      "source": [
        "1e-0"
      ],
      "execution_count": 0,
      "outputs": [
        {
          "output_type": "execute_result",
          "data": {
            "text/plain": [
              "1.0"
            ]
          },
          "metadata": {
            "tags": []
          },
          "execution_count": 55
        }
      ]
    },
    {
      "cell_type": "code",
      "metadata": {
        "id": "3pPhS2TLtFX2",
        "colab_type": "code",
        "colab": {}
      },
      "source": [
        "# from the above plot we can see the Loss is minimum at lr=0.1\n",
        "lr = 0.1"
      ],
      "execution_count": 0,
      "outputs": []
    },
    {
      "cell_type": "code",
      "metadata": {
        "id": "CsFwZxd1pB76",
        "colab_type": "code",
        "outputId": "90d8cebe-c25d-4e57-be7a-20d61b40456b",
        "colab": {
          "base_uri": "https://localhost:8080/",
          "height": 143
        }
      },
      "source": [
        "model.fit_one_cycle(3, slice(lr))"
      ],
      "execution_count": 0,
      "outputs": [
        {
          "output_type": "display_data",
          "data": {
            "text/html": [
              "<table border=\"1\" class=\"dataframe\">\n",
              "  <thead>\n",
              "    <tr style=\"text-align: left;\">\n",
              "      <th>epoch</th>\n",
              "      <th>train_loss</th>\n",
              "      <th>valid_loss</th>\n",
              "      <th>accuracy_thresh</th>\n",
              "      <th>fbeta</th>\n",
              "      <th>time</th>\n",
              "    </tr>\n",
              "  </thead>\n",
              "  <tbody>\n",
              "    <tr>\n",
              "      <td>0</td>\n",
              "      <td>0.202152</td>\n",
              "      <td>0.464958</td>\n",
              "      <td>0.937652</td>\n",
              "      <td>0.871080</td>\n",
              "      <td>11:35</td>\n",
              "    </tr>\n",
              "    <tr>\n",
              "      <td>1</td>\n",
              "      <td>0.144719</td>\n",
              "      <td>0.129183</td>\n",
              "      <td>0.953690</td>\n",
              "      <td>0.900993</td>\n",
              "      <td>11:29</td>\n",
              "    </tr>\n",
              "    <tr>\n",
              "      <td>2</td>\n",
              "      <td>0.104333</td>\n",
              "      <td>0.324488</td>\n",
              "      <td>0.952113</td>\n",
              "      <td>0.921412</td>\n",
              "      <td>11:28</td>\n",
              "    </tr>\n",
              "  </tbody>\n",
              "</table>"
            ],
            "text/plain": [
              "<IPython.core.display.HTML object>"
            ]
          },
          "metadata": {
            "tags": []
          }
        }
      ]
    },
    {
      "cell_type": "code",
      "metadata": {
        "id": "6Pt3DCDfSXcz",
        "colab_type": "code",
        "colab": {}
      },
      "source": [
        "model.save('stage-1')"
      ],
      "execution_count": 0,
      "outputs": []
    },
    {
      "cell_type": "code",
      "metadata": {
        "id": "dn2vPQystZQT",
        "colab_type": "code",
        "outputId": "037dad43-284b-48d0-d2cf-aa2d909f326d",
        "colab": {
          "base_uri": "https://localhost:8080/",
          "height": 34
        }
      },
      "source": [
        "model.lr_find()"
      ],
      "execution_count": 0,
      "outputs": [
        {
          "output_type": "display_data",
          "data": {
            "text/html": [
              ""
            ],
            "text/plain": [
              "<IPython.core.display.HTML object>"
            ]
          },
          "metadata": {
            "tags": []
          }
        },
        {
          "output_type": "stream",
          "text": [
            "LR Finder is complete, type {learner_name}.recorder.plot() to see the graph.\n"
          ],
          "name": "stdout"
        }
      ]
    },
    {
      "cell_type": "code",
      "metadata": {
        "id": "QXEBg305tZD2",
        "colab_type": "code",
        "outputId": "89cf299b-a373-4ad1-917f-540f5534ffe6",
        "colab": {
          "base_uri": "https://localhost:8080/",
          "height": 283
        }
      },
      "source": [
        "model.recorder.plot()"
      ],
      "execution_count": 0,
      "outputs": [
        {
          "output_type": "display_data",
          "data": {
            "image/png": "[encoded data removed]",
            "text/plain": [
              "<Figure size 432x288 with 1 Axes>"
            ]
          },
          "metadata": {
            "tags": []
          }
        }
      ]
    },
    {
      "cell_type": "code",
      "metadata": {
        "id": "Al30haxVtY1D",
        "colab_type": "code",
        "colab": {}
      },
      "source": [
        "model.unfreeze()"
      ],
      "execution_count": 0,
      "outputs": []
    },
    {
      "cell_type": "code",
      "metadata": {
        "id": "7Lvew0uzMEE5",
        "colab_type": "code",
        "outputId": "b849053e-f2b6-4260-9400-7bb64d031fa4",
        "colab": {
          "base_uri": "https://localhost:8080/",
          "height": 112
        }
      },
      "source": [
        "model.fit_one_cycle(2, max_lr=slice(1e-6, 1e-2))"
      ],
      "execution_count": 0,
      "outputs": [
        {
          "output_type": "display_data",
          "data": {
            "text/html": [
              "<table border=\"1\" class=\"dataframe\">\n",
              "  <thead>\n",
              "    <tr style=\"text-align: left;\">\n",
              "      <th>epoch</th>\n",
              "      <th>train_loss</th>\n",
              "      <th>valid_loss</th>\n",
              "      <th>accuracy_thresh</th>\n",
              "      <th>fbeta</th>\n",
              "      <th>time</th>\n",
              "    </tr>\n",
              "  </thead>\n",
              "  <tbody>\n",
              "    <tr>\n",
              "      <td>0</td>\n",
              "      <td>0.107526</td>\n",
              "      <td>0.113091</td>\n",
              "      <td>0.952818</td>\n",
              "      <td>0.917951</td>\n",
              "      <td>14:19</td>\n",
              "    </tr>\n",
              "    <tr>\n",
              "      <td>1</td>\n",
              "      <td>0.097361</td>\n",
              "      <td>0.143279</td>\n",
              "      <td>0.956342</td>\n",
              "      <td>0.923129</td>\n",
              "      <td>14:20</td>\n",
              "    </tr>\n",
              "  </tbody>\n",
              "</table>"
            ],
            "text/plain": [
              "<IPython.core.display.HTML object>"
            ]
          },
          "metadata": {
            "tags": []
          }
        }
      ]
    },
    {
      "cell_type": "code",
      "metadata": {
        "id": "5N-dQhXPtVbL",
        "colab_type": "code",
        "outputId": "2fc12755-c405-4f38-f3b3-20e28adc0ec0",
        "colab": {
          "base_uri": "https://localhost:8080/",
          "height": 95
        }
      },
      "source": [
        "model.lr_find()"
      ],
      "execution_count": 0,
      "outputs": [
        {
          "output_type": "display_data",
          "data": {
            "text/html": [
              "\n",
              "    <div>\n",
              "        <style>\n",
              "            /* Turns off some styling */\n",
              "            progress {\n",
              "                /* gets rid of default border in Firefox and Opera. */\n",
              "                border: none;\n",
              "                /* Needs to be in here for Safari polyfill so background images work as expected. */\n",
              "                background-size: auto;\n",
              "            }\n",
              "            .progress-bar-interrupted, .progress-bar-interrupted::-webkit-progress-bar {\n",
              "                background: #F44336;\n",
              "            }\n",
              "        </style>\n",
              "      <progress value='0' class='' max='1', style='width:300px; height:20px; vertical-align: middle;'></progress>\n",
              "      0.00% [0/1 00:00<00:00]\n",
              "    </div>\n",
              "    \n",
              "<table border=\"1\" class=\"dataframe\">\n",
              "  <thead>\n",
              "    <tr style=\"text-align: left;\">\n",
              "      <th>epoch</th>\n",
              "      <th>train_loss</th>\n",
              "      <th>valid_loss</th>\n",
              "      <th>accuracy_thresh</th>\n",
              "      <th>fbeta</th>\n",
              "      <th>time</th>\n",
              "    </tr>\n",
              "  </thead>\n",
              "  <tbody>\n",
              "  </tbody>\n",
              "</table><p>\n",
              "\n",
              "    <div>\n",
              "        <style>\n",
              "            /* Turns off some styling */\n",
              "            progress {\n",
              "                /* gets rid of default border in Firefox and Opera. */\n",
              "                border: none;\n",
              "                /* Needs to be in here for Safari polyfill so background images work as expected. */\n",
              "                background-size: auto;\n",
              "            }\n",
              "            .progress-bar-interrupted, .progress-bar-interrupted::-webkit-progress-bar {\n",
              "                background: #F44336;\n",
              "            }\n",
              "        </style>\n",
              "      <progress value='15' class='' max='506', style='width:300px; height:20px; vertical-align: middle;'></progress>\n",
              "      2.96% [15/506 00:24<13:28 0.0972]\n",
              "    </div>\n",
              "    "
            ],
            "text/plain": [
              "<IPython.core.display.HTML object>"
            ]
          },
          "metadata": {
            "tags": []
          }
        }
      ]
    },
    {
      "cell_type": "code",
      "metadata": {
        "id": "5HcH67uhMQdQ",
        "colab_type": "code",
        "outputId": "afa174e5-70ad-40da-9436-397e0b4d33f2",
        "colab": {
          "base_uri": "https://localhost:8080/",
          "height": 279
        }
      },
      "source": [
        "model.recorder.plot()"
      ],
      "execution_count": 0,
      "outputs": [
        {
          "output_type": "display_data",
          "data": {
            "image/png": "[encoded data removed]",
            "text/plain": [
              "<Figure size 432x288 with 1 Axes>"
            ]
          },
          "metadata": {
            "tags": []
          }
        }
      ]
    },
    {
      "cell_type": "code",
      "metadata": {
        "id": "W7_79rDzMQLj",
        "colab_type": "code",
        "colab": {}
      },
      "source": [
        "model.save('stage-')"
      ],
      "execution_count": 0,
      "outputs": []
    },
    {
      "cell_type": "code",
      "metadata": {
        "id": "g1vhu7EqMP60",
        "colab_type": "code",
        "colab": {}
      },
      "source": [
        "model.unfreeze()"
      ],
      "execution_count": 0,
      "outputs": []
    },
    {
      "cell_type": "code",
      "metadata": {
        "id": "l9ebF3CgBgI7",
        "colab_type": "code",
        "outputId": "848eb839-092b-4b74-e549-fcc58e9ad535",
        "colab": {
          "base_uri": "https://localhost:8080/",
          "height": 112
        }
      },
      "source": [
        "model.fit_one_cycle(2, max_lr=slice(1e-6))"
      ],
      "execution_count": 0,
      "outputs": [
        {
          "output_type": "display_data",
          "data": {
            "text/html": [
              "<table border=\"1\" class=\"dataframe\">\n",
              "  <thead>\n",
              "    <tr style=\"text-align: left;\">\n",
              "      <th>epoch</th>\n",
              "      <th>train_loss</th>\n",
              "      <th>valid_loss</th>\n",
              "      <th>accuracy_thresh</th>\n",
              "      <th>fbeta</th>\n",
              "      <th>time</th>\n",
              "    </tr>\n",
              "  </thead>\n",
              "  <tbody>\n",
              "    <tr>\n",
              "      <td>0</td>\n",
              "      <td>0.105813</td>\n",
              "      <td>0.095008</td>\n",
              "      <td>0.953167</td>\n",
              "      <td>0.920129</td>\n",
              "      <td>14:09</td>\n",
              "    </tr>\n",
              "    <tr>\n",
              "      <td>1</td>\n",
              "      <td>0.103227</td>\n",
              "      <td>0.094880</td>\n",
              "      <td>0.952796</td>\n",
              "      <td>0.919473</td>\n",
              "      <td>14:12</td>\n",
              "    </tr>\n",
              "  </tbody>\n",
              "</table>"
            ],
            "text/plain": [
              "<IPython.core.display.HTML object>"
            ]
          },
          "metadata": {
            "tags": []
          }
        }
      ]
    },
    {
      "cell_type": "code",
      "metadata": {
        "id": "HzZX09_CMPpJ",
        "colab_type": "code",
        "colab": {}
      },
      "source": [
        ""
      ],
      "execution_count": 0,
      "outputs": []
    },
    {
      "cell_type": "code",
      "metadata": {
        "id": "InBYHkLnCgZI",
        "colab_type": "code",
        "colab": {}
      },
      "source": [
        "model.save('stage-5')"
      ],
      "execution_count": 0,
      "outputs": []
    },
    {
      "cell_type": "code",
      "metadata": {
        "id": "kwAtPnjACgMK",
        "colab_type": "code",
        "colab": {}
      },
      "source": [
        "model.export('/kaggle/working/export.pkl',destroy=True)"
      ],
      "execution_count": 0,
      "outputs": []
    },
    {
      "cell_type": "code",
      "metadata": {
        "id": "Oz7-wDxCCf-q",
        "colab_type": "code",
        "colab": {}
      },
      "source": [
        "model.export()"
      ],
      "execution_count": 0,
      "outputs": []
    },
    {
      "cell_type": "markdown",
      "metadata": {
        "id": "VPOZ4eHFnNpF",
        "colab_type": "text"
      },
      "source": [
        "## 2.1 Data Pipeline"
      ]
    },
    {
      "cell_type": "code",
      "metadata": {
        "id": "7Gj3YkRinISS",
        "colab_type": "code",
        "colab": {}
      },
      "source": [
        "train_df = pd.read_csv(path/'train_v2.csv')\n",
        "test_df = pd.read_csv(path/'test_v2_file_mapping.csv')\n",
        "sample_df = pd.read_csv(path/'sample_submission_v2.csv')"
      ],
      "execution_count": 0,
      "outputs": []
    },
    {
      "cell_type": "code",
      "metadata": {
        "id": "msUpbaqWn1oj",
        "colab_type": "code",
        "outputId": "b55837c4-dedd-42c6-c608-9b2f1d424753",
        "colab": {
          "base_uri": "https://localhost:8080/",
          "height": 143
        }
      },
      "source": [
        "train_df.head(3)"
      ],
      "execution_count": 0,
      "outputs": [
        {
          "output_type": "execute_result",
          "data": {
            "text/html": [
              "<div>\n",
              "<style scoped>\n",
              "    .dataframe tbody tr th:only-of-type {\n",
              "        vertical-align: middle;\n",
              "    }\n",
              "\n",
              "    .dataframe tbody tr th {\n",
              "        vertical-align: top;\n",
              "    }\n",
              "\n",
              "    .dataframe thead th {\n",
              "        text-align: right;\n",
              "    }\n",
              "</style>\n",
              "<table border=\"1\" class=\"dataframe\">\n",
              "  <thead>\n",
              "    <tr style=\"text-align: right;\">\n",
              "      <th></th>\n",
              "      <th>image_name</th>\n",
              "      <th>tags</th>\n",
              "    </tr>\n",
              "  </thead>\n",
              "  <tbody>\n",
              "    <tr>\n",
              "      <th>0</th>\n",
              "      <td>train_0</td>\n",
              "      <td>haze primary</td>\n",
              "    </tr>\n",
              "    <tr>\n",
              "      <th>1</th>\n",
              "      <td>train_1</td>\n",
              "      <td>agriculture clear primary water</td>\n",
              "    </tr>\n",
              "    <tr>\n",
              "      <th>2</th>\n",
              "      <td>train_2</td>\n",
              "      <td>clear primary</td>\n",
              "    </tr>\n",
              "  </tbody>\n",
              "</table>\n",
              "</div>"
            ],
            "text/plain": [
              "  image_name                             tags\n",
              "0    train_0                     haze primary\n",
              "1    train_1  agriculture clear primary water\n",
              "2    train_2                    clear primary"
            ]
          },
          "metadata": {
            "tags": []
          },
          "execution_count": 35
        }
      ]
    },
    {
      "cell_type": "code",
      "metadata": {
        "id": "5sS8sXN6n3_I",
        "colab_type": "code",
        "outputId": "50365a39-4f54-4508-a788-fcb02a9ce713",
        "colab": {
          "base_uri": "https://localhost:8080/",
          "height": 112
        }
      },
      "source": [
        "test_df.head(2)"
      ],
      "execution_count": 0,
      "outputs": [
        {
          "output_type": "execute_result",
          "data": {
            "text/html": [
              "<div>\n",
              "<style scoped>\n",
              "    .dataframe tbody tr th:only-of-type {\n",
              "        vertical-align: middle;\n",
              "    }\n",
              "\n",
              "    .dataframe tbody tr th {\n",
              "        vertical-align: top;\n",
              "    }\n",
              "\n",
              "    .dataframe thead th {\n",
              "        text-align: right;\n",
              "    }\n",
              "</style>\n",
              "<table border=\"1\" class=\"dataframe\">\n",
              "  <thead>\n",
              "    <tr style=\"text-align: right;\">\n",
              "      <th></th>\n",
              "      <th>old</th>\n",
              "      <th>new</th>\n",
              "    </tr>\n",
              "  </thead>\n",
              "  <tbody>\n",
              "    <tr>\n",
              "      <th>0</th>\n",
              "      <td>file_4158.tif</td>\n",
              "      <td>file_18830.tif</td>\n",
              "    </tr>\n",
              "    <tr>\n",
              "      <th>1</th>\n",
              "      <td>file_1668.tif</td>\n",
              "      <td>file_19164.tif</td>\n",
              "    </tr>\n",
              "  </tbody>\n",
              "</table>\n",
              "</div>"
            ],
            "text/plain": [
              "             old             new\n",
              "0  file_4158.tif  file_18830.tif\n",
              "1  file_1668.tif  file_19164.tif"
            ]
          },
          "metadata": {
            "tags": []
          },
          "execution_count": 36
        }
      ]
    },
    {
      "cell_type": "code",
      "metadata": {
        "id": "r6Vxeovmoawy",
        "colab_type": "code",
        "colab": {}
      },
      "source": [
        "# it seems like test_df is of no use"
      ],
      "execution_count": 0,
      "outputs": []
    },
    {
      "cell_type": "code",
      "metadata": {
        "id": "fxTSGxkmog7L",
        "colab_type": "code",
        "outputId": "951ba7bc-40c5-4051-8d48-33eaf4e0fe0e",
        "colab": {
          "base_uri": "https://localhost:8080/",
          "height": 143
        }
      },
      "source": [
        "sample_df.head(3)"
      ],
      "execution_count": 0,
      "outputs": [
        {
          "output_type": "execute_result",
          "data": {
            "text/html": [
              "<div>\n",
              "<style scoped>\n",
              "    .dataframe tbody tr th:only-of-type {\n",
              "        vertical-align: middle;\n",
              "    }\n",
              "\n",
              "    .dataframe tbody tr th {\n",
              "        vertical-align: top;\n",
              "    }\n",
              "\n",
              "    .dataframe thead th {\n",
              "        text-align: right;\n",
              "    }\n",
              "</style>\n",
              "<table border=\"1\" class=\"dataframe\">\n",
              "  <thead>\n",
              "    <tr style=\"text-align: right;\">\n",
              "      <th></th>\n",
              "      <th>image_name</th>\n",
              "      <th>tags</th>\n",
              "    </tr>\n",
              "  </thead>\n",
              "  <tbody>\n",
              "    <tr>\n",
              "      <th>0</th>\n",
              "      <td>test_0</td>\n",
              "      <td>primary clear agriculture road water</td>\n",
              "    </tr>\n",
              "    <tr>\n",
              "      <th>1</th>\n",
              "      <td>test_1</td>\n",
              "      <td>primary clear agriculture road water</td>\n",
              "    </tr>\n",
              "    <tr>\n",
              "      <th>2</th>\n",
              "      <td>test_2</td>\n",
              "      <td>primary clear agriculture road water</td>\n",
              "    </tr>\n",
              "  </tbody>\n",
              "</table>\n",
              "</div>"
            ],
            "text/plain": [
              "  image_name                                  tags\n",
              "0     test_0  primary clear agriculture road water\n",
              "1     test_1  primary clear agriculture road water\n",
              "2     test_2  primary clear agriculture road water"
            ]
          },
          "metadata": {
            "tags": []
          },
          "execution_count": 38
        }
      ]
    },
    {
      "cell_type": "markdown",
      "metadata": {
        "id": "3T2-KqiNp5v6",
        "colab_type": "text"
      },
      "source": [
        "### One hot vector notation of the tags"
      ]
    },
    {
      "cell_type": "code",
      "metadata": {
        "id": "03qlZAL00NsA",
        "colab_type": "code",
        "colab": {}
      },
      "source": [
        "from sklearn.preprocessing import MultiLabelBinarizer"
      ],
      "execution_count": 0,
      "outputs": []
    },
    {
      "cell_type": "code",
      "metadata": {
        "id": "-4E1coeTojXD",
        "colab_type": "code",
        "colab": {}
      },
      "source": [
        "train_tags = train_df.tags"
      ],
      "execution_count": 0,
      "outputs": []
    },
    {
      "cell_type": "code",
      "metadata": {
        "id": "Ngfx3_aGzSqo",
        "colab_type": "code",
        "colab": {}
      },
      "source": [
        "mlb = MultiLabelBinarizer()"
      ],
      "execution_count": 0,
      "outputs": []
    },
    {
      "cell_type": "code",
      "metadata": {
        "id": "BL49N_t1zXee",
        "colab_type": "code",
        "colab": {}
      },
      "source": [
        "one_hot = mlb.fit_transform(train_tags_)"
      ],
      "execution_count": 0,
      "outputs": []
    },
    {
      "cell_type": "code",
      "metadata": {
        "id": "XAgJ9SExzowc",
        "colab_type": "code",
        "outputId": "e818fa0e-49f0-4ecf-9459-67a3996f3b14",
        "colab": {
          "base_uri": "https://localhost:8080/",
          "height": 34
        }
      },
      "source": [
        "one_hot.shape"
      ],
      "execution_count": 0,
      "outputs": [
        {
          "output_type": "execute_result",
          "data": {
            "text/plain": [
              "(40479, 17)"
            ]
          },
          "metadata": {
            "tags": []
          },
          "execution_count": 91
        }
      ]
    },
    {
      "cell_type": "code",
      "metadata": {
        "id": "6-mnA1JczrKL",
        "colab_type": "code",
        "outputId": "1eb40314-9593-4222-d361-d519af59c06e",
        "colab": {
          "base_uri": "https://localhost:8080/",
          "height": 86
        }
      },
      "source": [
        "mlb.classes_\n"
      ],
      "execution_count": 0,
      "outputs": [
        {
          "output_type": "execute_result",
          "data": {
            "text/plain": [
              "array(['agriculture', 'artisinal_mine', 'bare_ground', 'blooming',\n",
              "       'blow_down', 'clear', 'cloudy', 'conventional_mine', 'cultivation',\n",
              "       'habitation', 'haze', 'partly_cloudy', 'primary', 'road',\n",
              "       'selective_logging', 'slash_burn', 'water'], dtype=object)"
            ]
          },
          "metadata": {
            "tags": []
          },
          "execution_count": 92
        }
      ]
    },
    {
      "cell_type": "code",
      "metadata": {
        "id": "hxulIeBizwLY",
        "colab_type": "code",
        "colab": {}
      },
      "source": [
        "train_df = pd.concat([train_df, pd.DataFrame(one_hot, columns=mlb.classes_)], axis=1)"
      ],
      "execution_count": 0,
      "outputs": []
    },
    {
      "cell_type": "code",
      "metadata": {
        "id": "ork3kx5kz62g",
        "colab_type": "code",
        "outputId": "59c102da-40bd-455f-a347-cf3d9e7c359d",
        "colab": {
          "base_uri": "https://localhost:8080/",
          "height": 34
        }
      },
      "source": [
        "train_df.shape"
      ],
      "execution_count": 0,
      "outputs": [
        {
          "output_type": "execute_result",
          "data": {
            "text/plain": [
              "(40479, 19)"
            ]
          },
          "metadata": {
            "tags": []
          },
          "execution_count": 101
        }
      ]
    },
    {
      "cell_type": "code",
      "metadata": {
        "id": "z1wq9i-qHLsp",
        "colab_type": "code",
        "outputId": "447feff1-0a85-4e45-a94a-b75d30dddb3e",
        "colab": {
          "base_uri": "https://localhost:8080/",
          "height": 449
        }
      },
      "source": [
        "train_df.tail(6)"
      ],
      "execution_count": 0,
      "outputs": [
        {
          "output_type": "execute_result",
          "data": {
            "text/html": [
              "<div>\n",
              "<style scoped>\n",
              "    .dataframe tbody tr th:only-of-type {\n",
              "        vertical-align: middle;\n",
              "    }\n",
              "\n",
              "    .dataframe tbody tr th {\n",
              "        vertical-align: top;\n",
              "    }\n",
              "\n",
              "    .dataframe thead th {\n",
              "        text-align: right;\n",
              "    }\n",
              "</style>\n",
              "<table border=\"1\" class=\"dataframe\">\n",
              "  <thead>\n",
              "    <tr style=\"text-align: right;\">\n",
              "      <th></th>\n",
              "      <th>image_name</th>\n",
              "      <th>tags</th>\n",
              "      <th>agriculture</th>\n",
              "      <th>artisinal_mine</th>\n",
              "      <th>bare_ground</th>\n",
              "      <th>blooming</th>\n",
              "      <th>blow_down</th>\n",
              "      <th>clear</th>\n",
              "      <th>cloudy</th>\n",
              "      <th>conventional_mine</th>\n",
              "      <th>cultivation</th>\n",
              "      <th>habitation</th>\n",
              "      <th>haze</th>\n",
              "      <th>partly_cloudy</th>\n",
              "      <th>primary</th>\n",
              "      <th>road</th>\n",
              "      <th>selective_logging</th>\n",
              "      <th>slash_burn</th>\n",
              "      <th>water</th>\n",
              "    </tr>\n",
              "  </thead>\n",
              "  <tbody>\n",
              "    <tr>\n",
              "      <th>40473</th>\n",
              "      <td>train_40473</td>\n",
              "      <td>agriculture clear habitation primary road</td>\n",
              "      <td>1</td>\n",
              "      <td>0</td>\n",
              "      <td>0</td>\n",
              "      <td>0</td>\n",
              "      <td>0</td>\n",
              "      <td>1</td>\n",
              "      <td>0</td>\n",
              "      <td>0</td>\n",
              "      <td>0</td>\n",
              "      <td>1</td>\n",
              "      <td>0</td>\n",
              "      <td>0</td>\n",
              "      <td>1</td>\n",
              "      <td>1</td>\n",
              "      <td>0</td>\n",
              "      <td>0</td>\n",
              "      <td>0</td>\n",
              "    </tr>\n",
              "    <tr>\n",
              "      <th>40474</th>\n",
              "      <td>train_40474</td>\n",
              "      <td>clear primary</td>\n",
              "      <td>0</td>\n",
              "      <td>0</td>\n",
              "      <td>0</td>\n",
              "      <td>0</td>\n",
              "      <td>0</td>\n",
              "      <td>1</td>\n",
              "      <td>0</td>\n",
              "      <td>0</td>\n",
              "      <td>0</td>\n",
              "      <td>0</td>\n",
              "      <td>0</td>\n",
              "      <td>0</td>\n",
              "      <td>1</td>\n",
              "      <td>0</td>\n",
              "      <td>0</td>\n",
              "      <td>0</td>\n",
              "      <td>0</td>\n",
              "    </tr>\n",
              "    <tr>\n",
              "      <th>40475</th>\n",
              "      <td>train_40475</td>\n",
              "      <td>cloudy</td>\n",
              "      <td>0</td>\n",
              "      <td>0</td>\n",
              "      <td>0</td>\n",
              "      <td>0</td>\n",
              "      <td>0</td>\n",
              "      <td>0</td>\n",
              "      <td>1</td>\n",
              "      <td>0</td>\n",
              "      <td>0</td>\n",
              "      <td>0</td>\n",
              "      <td>0</td>\n",
              "      <td>0</td>\n",
              "      <td>0</td>\n",
              "      <td>0</td>\n",
              "      <td>0</td>\n",
              "      <td>0</td>\n",
              "      <td>0</td>\n",
              "    </tr>\n",
              "    <tr>\n",
              "      <th>40476</th>\n",
              "      <td>train_40476</td>\n",
              "      <td>agriculture clear primary</td>\n",
              "      <td>1</td>\n",
              "      <td>0</td>\n",
              "      <td>0</td>\n",
              "      <td>0</td>\n",
              "      <td>0</td>\n",
              "      <td>1</td>\n",
              "      <td>0</td>\n",
              "      <td>0</td>\n",
              "      <td>0</td>\n",
              "      <td>0</td>\n",
              "      <td>0</td>\n",
              "      <td>0</td>\n",
              "      <td>1</td>\n",
              "      <td>0</td>\n",
              "      <td>0</td>\n",
              "      <td>0</td>\n",
              "      <td>0</td>\n",
              "    </tr>\n",
              "    <tr>\n",
              "      <th>40477</th>\n",
              "      <td>train_40477</td>\n",
              "      <td>agriculture clear primary road</td>\n",
              "      <td>1</td>\n",
              "      <td>0</td>\n",
              "      <td>0</td>\n",
              "      <td>0</td>\n",
              "      <td>0</td>\n",
              "      <td>1</td>\n",
              "      <td>0</td>\n",
              "      <td>0</td>\n",
              "      <td>0</td>\n",
              "      <td>0</td>\n",
              "      <td>0</td>\n",
              "      <td>0</td>\n",
              "      <td>1</td>\n",
              "      <td>1</td>\n",
              "      <td>0</td>\n",
              "      <td>0</td>\n",
              "      <td>0</td>\n",
              "    </tr>\n",
              "    <tr>\n",
              "      <th>40478</th>\n",
              "      <td>train_40478</td>\n",
              "      <td>agriculture cultivation partly_cloudy primary</td>\n",
              "      <td>1</td>\n",
              "      <td>0</td>\n",
              "      <td>0</td>\n",
              "      <td>0</td>\n",
              "      <td>0</td>\n",
              "      <td>0</td>\n",
              "      <td>0</td>\n",
              "      <td>0</td>\n",
              "      <td>1</td>\n",
              "      <td>0</td>\n",
              "      <td>0</td>\n",
              "      <td>1</td>\n",
              "      <td>1</td>\n",
              "      <td>0</td>\n",
              "      <td>0</td>\n",
              "      <td>0</td>\n",
              "      <td>0</td>\n",
              "    </tr>\n",
              "  </tbody>\n",
              "</table>\n",
              "</div>"
            ],
            "text/plain": [
              "        image_name  ... water\n",
              "40473  train_40473  ...     0\n",
              "40474  train_40474  ...     0\n",
              "40475  train_40475  ...     0\n",
              "40476  train_40476  ...     0\n",
              "40477  train_40477  ...     0\n",
              "40478  train_40478  ...     0\n",
              "\n",
              "[6 rows x 19 columns]"
            ]
          },
          "metadata": {
            "tags": []
          },
          "execution_count": 105
        }
      ]
    },
    {
      "cell_type": "code",
      "metadata": {
        "id": "ZS9o3UQRHWej",
        "colab_type": "code",
        "colab": {}
      },
      "source": [
        "# save this into the memory we might need it later(once the session terminates)\n",
        "train_df.to_csv('train_v2_one_hot.csv')"
      ],
      "execution_count": 0,
      "outputs": []
    },
    {
      "cell_type": "code",
      "metadata": {
        "id": "K9pI7_LBHwq8",
        "colab_type": "code",
        "colab": {}
      },
      "source": [
        "# move the above files on drive\n",
        "!cp train_v2_one_hot.csv  drive/My\\ Drive/"
      ],
      "execution_count": 0,
      "outputs": []
    },
    {
      "cell_type": "markdown",
      "metadata": {
        "id": "XCdZ1k6MOSDA",
        "colab_type": "text"
      },
      "source": [
        "### Building the pipeline"
      ]
    },
    {
      "cell_type": "code",
      "metadata": {
        "id": "EY_Aj6reQhel",
        "colab_type": "code",
        "colab": {}
      },
      "source": [
        "if not os.path.isdir('planet/train'):\n",
        "  os.mkdir('planet/train')"
      ],
      "execution_count": 0,
      "outputs": []
    },
    {
      "cell_type": "code",
      "metadata": {
        "id": "4SICtf12QesK",
        "colab_type": "code",
        "colab": {}
      },
      "source": [
        "if not os.path.isdir('planet/test'):\n",
        "  os.mkdir('planet/test')"
      ],
      "execution_count": 0,
      "outputs": []
    },
    {
      "cell_type": "code",
      "metadata": {
        "id": "6AzK3Sg1Q6XI",
        "colab_type": "code",
        "colab": {}
      },
      "source": [
        "if not os.path.isdir('planet/additional-test'):\n",
        "  os.mkdir('planet/additional-test')"
      ],
      "execution_count": 0,
      "outputs": []
    },
    {
      "cell_type": "code",
      "metadata": {
        "id": "KjyO7hqOQ_OY",
        "colab_type": "code",
        "colab": {}
      },
      "source": [
        "!mv planet/train-jpg/ planet/train/\n",
        "!mv planet/test-jpg/  planet/test/\n",
        "!mv planet/test-jpg-additional/ planet/additional-test/"
      ],
      "execution_count": 0,
      "outputs": []
    },
    {
      "cell_type": "markdown",
      "metadata": {
        "id": "i2Ey6hgQP_RP",
        "colab_type": "text"
      },
      "source": [
        "#### Directory Structure\n",
        "planet\n",
        "- train\n",
        " - train-jpg\n",
        "- test\n",
        " - test-jpg\n",
        "- additional-test\n",
        " - test-jpg-additional"
      ]
    },
    {
      "cell_type": "code",
      "metadata": {
        "id": "5yj2lvuoWXiG",
        "colab_type": "code",
        "colab": {}
      },
      "source": [
        "df = pd.read_csv(\"planet/train_v2.csv\")"
      ],
      "execution_count": 0,
      "outputs": []
    },
    {
      "cell_type": "code",
      "metadata": {
        "id": "fREJ9GB_Wdf0",
        "colab_type": "code",
        "colab": {}
      },
      "source": [
        "df['tags'] = df[\"tags\"].apply(lambda x:x.split(\" \"))"
      ],
      "execution_count": 0,
      "outputs": []
    },
    {
      "cell_type": "code",
      "metadata": {
        "id": "ur7AaWbmWmFp",
        "colab_type": "code",
        "outputId": "525a10cd-6ddb-4e2a-b1ac-930da873b0d2",
        "colab": {
          "base_uri": "https://localhost:8080/",
          "height": 81
        }
      },
      "source": [
        "df.head(1)"
      ],
      "execution_count": 0,
      "outputs": [
        {
          "output_type": "execute_result",
          "data": {
            "text/html": [
              "<div>\n",
              "<style scoped>\n",
              "    .dataframe tbody tr th:only-of-type {\n",
              "        vertical-align: middle;\n",
              "    }\n",
              "\n",
              "    .dataframe tbody tr th {\n",
              "        vertical-align: top;\n",
              "    }\n",
              "\n",
              "    .dataframe thead th {\n",
              "        text-align: right;\n",
              "    }\n",
              "</style>\n",
              "<table border=\"1\" class=\"dataframe\">\n",
              "  <thead>\n",
              "    <tr style=\"text-align: right;\">\n",
              "      <th></th>\n",
              "      <th>image_name</th>\n",
              "      <th>tags</th>\n",
              "    </tr>\n",
              "  </thead>\n",
              "  <tbody>\n",
              "    <tr>\n",
              "      <th>0</th>\n",
              "      <td>train_0</td>\n",
              "      <td>[haze, primary]</td>\n",
              "    </tr>\n",
              "  </tbody>\n",
              "</table>\n",
              "</div>"
            ],
            "text/plain": [
              "  image_name             tags\n",
              "0    train_0  [haze, primary]"
            ]
          },
          "metadata": {
            "tags": []
          },
          "execution_count": 150
        }
      ]
    },
    {
      "cell_type": "code",
      "metadata": {
        "id": "QJTsGbF7aG9q",
        "colab_type": "code",
        "colab": {}
      },
      "source": [
        "df['image_name'] = df.image_name.apply(lambda x:x+'.jpg')"
      ],
      "execution_count": 0,
      "outputs": []
    },
    {
      "cell_type": "code",
      "metadata": {
        "id": "kVMvYqMJaXnv",
        "colab_type": "code",
        "outputId": "26eceb8b-a671-4aff-e9b2-d8ba8ca0019e",
        "colab": {
          "base_uri": "https://localhost:8080/",
          "height": 206
        }
      },
      "source": [
        "df.head()"
      ],
      "execution_count": 0,
      "outputs": [
        {
          "output_type": "execute_result",
          "data": {
            "text/html": [
              "<div>\n",
              "<style scoped>\n",
              "    .dataframe tbody tr th:only-of-type {\n",
              "        vertical-align: middle;\n",
              "    }\n",
              "\n",
              "    .dataframe tbody tr th {\n",
              "        vertical-align: top;\n",
              "    }\n",
              "\n",
              "    .dataframe thead th {\n",
              "        text-align: right;\n",
              "    }\n",
              "</style>\n",
              "<table border=\"1\" class=\"dataframe\">\n",
              "  <thead>\n",
              "    <tr style=\"text-align: right;\">\n",
              "      <th></th>\n",
              "      <th>image_name</th>\n",
              "      <th>tags</th>\n",
              "    </tr>\n",
              "  </thead>\n",
              "  <tbody>\n",
              "    <tr>\n",
              "      <th>0</th>\n",
              "      <td>train_0.jpg</td>\n",
              "      <td>[haze, primary]</td>\n",
              "    </tr>\n",
              "    <tr>\n",
              "      <th>1</th>\n",
              "      <td>train_1.jpg</td>\n",
              "      <td>[agriculture, clear, primary, water]</td>\n",
              "    </tr>\n",
              "    <tr>\n",
              "      <th>2</th>\n",
              "      <td>train_2.jpg</td>\n",
              "      <td>[clear, primary]</td>\n",
              "    </tr>\n",
              "    <tr>\n",
              "      <th>3</th>\n",
              "      <td>train_3.jpg</td>\n",
              "      <td>[clear, primary]</td>\n",
              "    </tr>\n",
              "    <tr>\n",
              "      <th>4</th>\n",
              "      <td>train_4.jpg</td>\n",
              "      <td>[agriculture, clear, habitation, primary, road]</td>\n",
              "    </tr>\n",
              "  </tbody>\n",
              "</table>\n",
              "</div>"
            ],
            "text/plain": [
              "    image_name                                             tags\n",
              "0  train_0.jpg                                  [haze, primary]\n",
              "1  train_1.jpg             [agriculture, clear, primary, water]\n",
              "2  train_2.jpg                                 [clear, primary]\n",
              "3  train_3.jpg                                 [clear, primary]\n",
              "4  train_4.jpg  [agriculture, clear, habitation, primary, road]"
            ]
          },
          "metadata": {
            "tags": []
          },
          "execution_count": 181
        }
      ]
    },
    {
      "cell_type": "code",
      "metadata": {
        "id": "bHjjtddGIg3y",
        "colab_type": "code",
        "colab": {}
      },
      "source": [
        "from keras.preprocessing.image import ImageDataGenerator"
      ],
      "execution_count": 0,
      "outputs": []
    },
    {
      "cell_type": "code",
      "metadata": {
        "id": "oNXzOqduOu0G",
        "colab_type": "code",
        "colab": {}
      },
      "source": [
        "train_datagen = val_datagen = test_datagen = additiona_test_datagen = ImageDataGenerator(rescale=1./255.)"
      ],
      "execution_count": 0,
      "outputs": []
    },
    {
      "cell_type": "code",
      "metadata": {
        "id": "5uoIqfbeTnTM",
        "colab_type": "code",
        "outputId": "47a1f8be-2450-40e2-eae0-dae855453571",
        "colab": {
          "base_uri": "https://localhost:8080/",
          "height": 34
        }
      },
      "source": [
        "train_gen = train_datagen.flow_from_dataframe(\n",
        "    dataframe=df[1000:],\n",
        "    directory=\"./planet/train/train-jpg/\",\n",
        "    x_col=\"image_name\",\n",
        "    y_col=\"tags\",\n",
        "    batch_size=32,\n",
        "    seed=42,\n",
        "    shuffle=True,\n",
        ")"
      ],
      "execution_count": 0,
      "outputs": [
        {
          "output_type": "stream",
          "text": [
            "Found 39479 validated image filenames belonging to 17 classes.\n"
          ],
          "name": "stdout"
        }
      ]
    },
    {
      "cell_type": "code",
      "metadata": {
        "id": "I9xtYiq6hM80",
        "colab_type": "code",
        "outputId": "5e251560-9a10-48d4-eb91-aa09ec94ceff",
        "colab": {
          "base_uri": "https://localhost:8080/",
          "height": 34
        }
      },
      "source": [
        "val_gen = val_datagen.flow_from_dataframe(\n",
        "    dataframe=df[:1000],\n",
        "    directory=\"./planet/train/train-jpg/\",\n",
        "    x_col=\"image_name\",\n",
        "    y_col=\"tags\",\n",
        "    batch_size=32,\n",
        "    seed=42,\n",
        "    shuffle=False,\n",
        ")"
      ],
      "execution_count": 0,
      "outputs": [
        {
          "output_type": "stream",
          "text": [
            "Found 1000 validated image filenames belonging to 17 classes.\n"
          ],
          "name": "stdout"
        }
      ]
    },
    {
      "cell_type": "markdown",
      "metadata": {
        "id": "cdDYa3XYhnmg",
        "colab_type": "text"
      },
      "source": [
        "## 2.2 Classification Model"
      ]
    },
    {
      "cell_type": "code",
      "metadata": {
        "id": "OF03FUrohwIP",
        "colab_type": "code",
        "colab": {}
      },
      "source": [
        "!pip install keras_efficientnets"
      ],
      "execution_count": 0,
      "outputs": []
    },
    {
      "cell_type": "code",
      "metadata": {
        "id": "C-ZW1R6gh0Q0",
        "colab_type": "code",
        "colab": {}
      },
      "source": [
        "from keras_efficientnets import EfficientNetB4"
      ],
      "execution_count": 0,
      "outputs": []
    },
    {
      "cell_type": "code",
      "metadata": {
        "id": "NAvi1scwiZTy",
        "colab_type": "code",
        "colab": {}
      },
      "source": [
        "efficient = EfficientNetB0((256, 256, 3), include_top=False, weights='imagenet')"
      ],
      "execution_count": 0,
      "outputs": []
    },
    {
      "cell_type": "code",
      "metadata": {
        "id": "cJ0hONDPi1gg",
        "colab_type": "code",
        "colab": {}
      },
      "source": [
        "model_archive = efficient"
      ],
      "execution_count": 0,
      "outputs": []
    },
    {
      "cell_type": "markdown",
      "metadata": {
        "id": "hCLC8pDskrDy",
        "colab_type": "text"
      },
      "source": [
        "### Keras functional API"
      ]
    },
    {
      "cell_type": "code",
      "metadata": {
        "id": "nqD_5Qj7kM97",
        "colab_type": "code",
        "colab": {}
      },
      "source": [
        "from keras.layers import *\n",
        "from keras.models import *\n",
        "from keras.optimizers import *\n",
        "from keras.models import *"
      ],
      "execution_count": 0,
      "outputs": []
    },
    {
      "cell_type": "code",
      "metadata": {
        "id": "2uNnBZ0Ak99p",
        "colab_type": "code",
        "colab": {}
      },
      "source": [
        "new_layer_1 = GlobalAveragePooling2D()(efficient.output)\n",
        "new_layer_2 = Dropout(0.25)(new_layer_1)\n",
        "new_layer_3 = Dense(512, activation='relu')(new_layer_2)\n",
        "new_layer_4 = Dense(256, activation='relu')(new_layer_3)\n",
        "new_layer_5 = Dense(64, activation='relu')(new_layer_4)\n",
        "final_layer = Dense(17, activation='sigmoid')(new_layer_5)"
      ],
      "execution_count": 0,
      "outputs": []
    },
    {
      "cell_type": "code",
      "metadata": {
        "id": "vPB-KesnlKHf",
        "colab_type": "code",
        "colab": {}
      },
      "source": [
        "model = Model(inputs=efficient.input, outputs=final_layer)"
      ],
      "execution_count": 0,
      "outputs": []
    },
    {
      "cell_type": "code",
      "metadata": {
        "id": "Y4_jorHhnPTU",
        "colab_type": "code",
        "colab": {}
      },
      "source": [
        "# model.summary()"
      ],
      "execution_count": 0,
      "outputs": []
    },
    {
      "cell_type": "markdown",
      "metadata": {
        "id": "czP2W8HpoXyV",
        "colab_type": "text"
      },
      "source": [
        "### Compilation and Training"
      ]
    },
    {
      "cell_type": "code",
      "metadata": {
        "id": "j-yGueqGpoFM",
        "colab_type": "code",
        "colab": {}
      },
      "source": [
        "from keras.callbacks import EarlyStopping, ModelCheckpoint"
      ],
      "execution_count": 0,
      "outputs": []
    },
    {
      "cell_type": "code",
      "metadata": {
        "id": "sF5t56Mjp8hy",
        "colab_type": "code",
        "colab": {}
      },
      "source": [
        "train_steps = train_df.shape[0]-1000 /32\n",
        "val_steps = 1000/32\n",
        "epochs = 10\n"
      ],
      "execution_count": 0,
      "outputs": []
    },
    {
      "cell_type": "code",
      "metadata": {
        "id": "0GSW9Zd5pdfo",
        "colab_type": "code",
        "colab": {}
      },
      "source": [
        "es = EarlyStopping(monitor='val_acc', min_delta=0.05, patience=5)\n",
        "cp = ModelCheckpoint('model.h5', save_best_only=True, save_weights_only=True)"
      ],
      "execution_count": 0,
      "outputs": []
    },
    {
      "cell_type": "code",
      "metadata": {
        "id": "VRQf5z8NnQxm",
        "colab_type": "code",
        "colab": {}
      },
      "source": [
        "model.compile(optimizer='adam', loss=['binary_crossentropy'], metrics=['accuracy'])"
      ],
      "execution_count": 0,
      "outputs": []
    },
    {
      "cell_type": "code",
      "metadata": {
        "id": "gLRNJc-SpSCv",
        "colab_type": "code",
        "outputId": "07ffa5b8-93cc-4a4e-e809-3a3a0662c9d4",
        "colab": {
          "base_uri": "https://localhost:8080/",
          "height": 263
        }
      },
      "source": [
        "model.fit_generator(\n",
        "    train_gen,\n",
        "    steps_per_epoch=len(train_gen),\n",
        "    validation_data=val_gen,\n",
        "    validation_steps=len(val_gen),\n",
        "    epochs=epochs,\n",
        "    callbacks=[es, cp]\n",
        ")"
      ],
      "execution_count": 0,
      "outputs": [
        {
          "output_type": "stream",
          "text": [
            "Epoch 1/10\n",
            "1234/1234 [==============================] - 900s 729ms/step - loss: 0.1052 - acc: 0.9604 - val_loss: 0.0938 - val_acc: 0.9648\n",
            "Epoch 2/10\n",
            "1234/1234 [==============================] - 866s 702ms/step - loss: 0.0944 - acc: 0.9639 - val_loss: 0.0931 - val_acc: 0.9626\n",
            "Epoch 3/10\n",
            "1234/1234 [==============================] - 867s 703ms/step - loss: 0.0887 - acc: 0.9660 - val_loss: 0.0942 - val_acc: 0.9657\n",
            "Epoch 4/10\n",
            "1234/1234 [==============================] - 867s 703ms/step - loss: 0.0844 - acc: 0.9674 - val_loss: 0.0966 - val_acc: 0.9666\n",
            "Epoch 5/10\n",
            "1234/1234 [==============================] - 868s 703ms/step - loss: 0.0797 - acc: 0.9691 - val_loss: 0.0982 - val_acc: 0.9634\n",
            "Epoch 6/10\n",
            "1234/1234 [==============================] - 868s 703ms/step - loss: 0.0749 - acc: 0.9712 - val_loss: 0.1040 - val_acc: 0.9626\n"
          ],
          "name": "stdout"
        },
        {
          "output_type": "execute_result",
          "data": {
            "text/plain": [
              "<keras.callbacks.History at 0x7fa6a6a16860>"
            ]
          },
          "metadata": {
            "tags": []
          },
          "execution_count": 283
        }
      ]
    },
    {
      "cell_type": "code",
      "metadata": {
        "id": "AEJ08-MKqXIo",
        "colab_type": "code",
        "colab": {}
      },
      "source": [
        "model.load_weights('model.h5')"
      ],
      "execution_count": 0,
      "outputs": []
    },
    {
      "cell_type": "code",
      "metadata": {
        "id": "LvSa042LDBzu",
        "colab_type": "code",
        "outputId": "5ecf2123-a909-4c4e-ae72-7d8ce0917aa8",
        "colab": {
          "base_uri": "https://localhost:8080/",
          "height": 34
        }
      },
      "source": [
        "model.evaluate_generator(val_gen, len(val_gen))"
      ],
      "execution_count": 0,
      "outputs": [
        {
          "output_type": "execute_result",
          "data": {
            "text/plain": [
              "[0.09306506431102753, 0.9626470384597778]"
            ]
          },
          "metadata": {
            "tags": []
          },
          "execution_count": 288
        }
      ]
    },
    {
      "cell_type": "markdown",
      "metadata": {
        "id": "PieBGuMpDrjV",
        "colab_type": "text"
      },
      "source": [
        "## 2.3 Model Evaluation"
      ]
    },
    {
      "cell_type": "code",
      "metadata": {
        "id": "J4CuTFS5DKzQ",
        "colab_type": "code",
        "outputId": "032cfadb-1259-49dd-e3c3-2c37dfea62d2",
        "colab": {
          "base_uri": "https://localhost:8080/",
          "height": 34
        }
      },
      "source": [
        "test_gen = test_datagen.flow_from_directory(directory='planet/test/',shuffle=False)\n"
      ],
      "execution_count": 0,
      "outputs": [
        {
          "output_type": "stream",
          "text": [
            "Found 40669 images belonging to 1 classes.\n"
          ],
          "name": "stdout"
        }
      ]
    },
    {
      "cell_type": "code",
      "metadata": {
        "id": "impoK2w2EPn2",
        "colab_type": "code",
        "outputId": "dab3d13a-6432-485c-d884-01f5097fd030",
        "colab": {
          "base_uri": "https://localhost:8080/",
          "height": 34
        }
      },
      "source": [
        "additional_test_gen = additiona_test_datagen.flow_from_directory(directory='planet/additional-test/', shuffle=False)"
      ],
      "execution_count": 0,
      "outputs": [
        {
          "output_type": "stream",
          "text": [
            "Found 20522 images belonging to 1 classes.\n"
          ],
          "name": "stdout"
        }
      ]
    },
    {
      "cell_type": "code",
      "metadata": {
        "id": "u99M-ceaEqF5",
        "colab_type": "code",
        "colab": {}
      },
      "source": [
        "test_gen.reset()"
      ],
      "execution_count": 0,
      "outputs": []
    },
    {
      "cell_type": "code",
      "metadata": {
        "id": "cky5lb3BE11h",
        "colab_type": "code",
        "colab": {}
      },
      "source": [
        "additional_test_gen.reset()"
      ],
      "execution_count": 0,
      "outputs": []
    },
    {
      "cell_type": "code",
      "metadata": {
        "id": "6I9eCaG8E7ql",
        "colab_type": "code",
        "outputId": "f7d9a007-ebed-41ae-d758-ea54351b2e52",
        "colab": {
          "base_uri": "https://localhost:8080/",
          "height": 34
        }
      },
      "source": [
        "pred_test = model.predict_generator(test_gen, steps=len(test_gen), verbose=1)"
      ],
      "execution_count": 0,
      "outputs": [
        {
          "output_type": "stream",
          "text": [
            "1271/1271 [==============================] - 211s 166ms/step\n"
          ],
          "name": "stdout"
        }
      ]
    },
    {
      "cell_type": "code",
      "metadata": {
        "id": "0uQXWbr5FGv_",
        "colab_type": "code",
        "outputId": "2d6277eb-f259-438d-bf5f-1f49cc7d8a0c",
        "colab": {
          "base_uri": "https://localhost:8080/",
          "height": 34
        }
      },
      "source": [
        "pred_additional_test = model.predict_generator(additional_test_gen, steps=len(additional_test_gen), verbose=1)"
      ],
      "execution_count": 0,
      "outputs": [
        {
          "output_type": "stream",
          "text": [
            "642/642 [==============================] - 103s 160ms/step\n"
          ],
          "name": "stdout"
        }
      ]
    },
    {
      "cell_type": "markdown",
      "metadata": {
        "id": "EshPfJt_GTKq",
        "colab_type": "text"
      },
      "source": [
        "#### decode the prediction"
      ]
    },
    {
      "cell_type": "code",
      "metadata": {
        "id": "Vk0lY1ZBF7Xa",
        "colab_type": "code",
        "colab": {}
      },
      "source": [
        "pred_test_bool = (pred_test > 0.5).astype(int)\n",
        "pred_additional_test_bool =  (pred_additional_test > 0.5).astype(int)"
      ],
      "execution_count": 0,
      "outputs": []
    },
    {
      "cell_type": "code",
      "metadata": {
        "id": "M4EWQue8GWCT",
        "colab_type": "code",
        "colab": {}
      },
      "source": [
        "labels = train_gen.class_indices"
      ],
      "execution_count": 0,
      "outputs": []
    },
    {
      "cell_type": "code",
      "metadata": {
        "id": "eyHcScr3OUBB",
        "colab_type": "code",
        "colab": {}
      },
      "source": [
        "idx_to_class = dict([(value, key) for key, value in labels.items()])"
      ],
      "execution_count": 0,
      "outputs": []
    },
    {
      "cell_type": "code",
      "metadata": {
        "id": "3Qk2OKGRGctq",
        "colab_type": "code",
        "colab": {}
      },
      "source": [
        "# combine the both predictions\n",
        "preds = np.vstack((pred_test_bool, pred_additional_test_bool))\n"
      ],
      "execution_count": 0,
      "outputs": []
    },
    {
      "cell_type": "code",
      "metadata": {
        "id": "2JFQ9uR1IgqF",
        "colab_type": "code",
        "outputId": "952231b7-25bf-4ee3-9c24-0f886e34df8e",
        "colab": {
          "base_uri": "https://localhost:8080/",
          "height": 34
        }
      },
      "source": [
        "preds.shape"
      ],
      "execution_count": 0,
      "outputs": [
        {
          "output_type": "execute_result",
          "data": {
            "text/plain": [
              "(61191, 17)"
            ]
          },
          "metadata": {
            "tags": []
          },
          "execution_count": 318
        }
      ]
    },
    {
      "cell_type": "code",
      "metadata": {
        "id": "TChdOu-EG9pa",
        "colab_type": "code",
        "outputId": "22541555-8ce5-43c3-c341-23022d9e3d0a",
        "colab": {
          "base_uri": "https://localhost:8080/",
          "height": 34
        }
      },
      "source": [
        "sample_df.shape"
      ],
      "execution_count": 0,
      "outputs": [
        {
          "output_type": "execute_result",
          "data": {
            "text/plain": [
              "(61191, 2)"
            ]
          },
          "metadata": {
            "tags": []
          },
          "execution_count": 331
        }
      ]
    },
    {
      "cell_type": "code",
      "metadata": {
        "id": "jW0TTfKYNAiB",
        "colab_type": "code",
        "outputId": "72dc601c-79c3-43d5-e96b-9198881d3f90",
        "colab": {
          "base_uri": "https://localhost:8080/",
          "height": 143
        }
      },
      "source": [
        "sample_df.head(3)"
      ],
      "execution_count": 0,
      "outputs": [
        {
          "output_type": "execute_result",
          "data": {
            "text/html": [
              "<div>\n",
              "<style scoped>\n",
              "    .dataframe tbody tr th:only-of-type {\n",
              "        vertical-align: middle;\n",
              "    }\n",
              "\n",
              "    .dataframe tbody tr th {\n",
              "        vertical-align: top;\n",
              "    }\n",
              "\n",
              "    .dataframe thead th {\n",
              "        text-align: right;\n",
              "    }\n",
              "</style>\n",
              "<table border=\"1\" class=\"dataframe\">\n",
              "  <thead>\n",
              "    <tr style=\"text-align: right;\">\n",
              "      <th></th>\n",
              "      <th>image_name</th>\n",
              "      <th>tags</th>\n",
              "    </tr>\n",
              "  </thead>\n",
              "  <tbody>\n",
              "    <tr>\n",
              "      <th>0</th>\n",
              "      <td>test_0</td>\n",
              "      <td>hello</td>\n",
              "    </tr>\n",
              "    <tr>\n",
              "      <th>1</th>\n",
              "      <td>test_1</td>\n",
              "      <td>primary clear agriculture road water</td>\n",
              "    </tr>\n",
              "    <tr>\n",
              "      <th>2</th>\n",
              "      <td>test_2</td>\n",
              "      <td>primary clear agriculture road water</td>\n",
              "    </tr>\n",
              "  </tbody>\n",
              "</table>\n",
              "</div>"
            ],
            "text/plain": [
              "  image_name                                  tags\n",
              "0     test_0                                 hello\n",
              "1     test_1  primary clear agriculture road water\n",
              "2     test_2  primary clear agriculture road water"
            ]
          },
          "metadata": {
            "tags": []
          },
          "execution_count": 347
        }
      ]
    },
    {
      "cell_type": "code",
      "metadata": {
        "id": "1DFQaI6OOOFv",
        "colab_type": "code",
        "colab": {}
      },
      "source": [
        "predicted_labels = mlb.inverse_transform(preds)"
      ],
      "execution_count": 0,
      "outputs": []
    },
    {
      "cell_type": "code",
      "metadata": {
        "id": "E24PWTxvQiE9",
        "colab_type": "code",
        "outputId": "c1d97ee7-cd51-4f11-e889-c16fd0ecf498",
        "colab": {
          "base_uri": "https://localhost:8080/",
          "height": 34
        }
      },
      "source": [
        "len(predicted_labels)"
      ],
      "execution_count": 0,
      "outputs": [
        {
          "output_type": "execute_result",
          "data": {
            "text/plain": [
              "61191"
            ]
          },
          "metadata": {
            "tags": []
          },
          "execution_count": 370
        }
      ]
    },
    {
      "cell_type": "code",
      "metadata": {
        "id": "iYX4zs5xQkxC",
        "colab_type": "code",
        "colab": {}
      },
      "source": [
        "for i in range(len(predicted_labels)):\n",
        "  tag = ''\n",
        "  for j in range(len(predicted_labels[i])):\n",
        "    \n",
        "    if len(tag) != 0:\n",
        "      tag = tag + \" \" + predicted_labels[i][j]\n",
        "    else:\n",
        "      tag += predicted_labels[i][j]\n",
        "    \n",
        "  sample_df.tags[i] = tag"
      ],
      "execution_count": 0,
      "outputs": []
    },
    {
      "cell_type": "code",
      "metadata": {
        "id": "tr8BJ9l4TXNM",
        "colab_type": "code",
        "outputId": "e5d3a6d8-c2ca-43f7-8909-2ae39d1370b8",
        "colab": {
          "base_uri": "https://localhost:8080/",
          "height": 206
        }
      },
      "source": [
        "sample_df.head()"
      ],
      "execution_count": 0,
      "outputs": [
        {
          "output_type": "execute_result",
          "data": {
            "text/html": [
              "<div>\n",
              "<style scoped>\n",
              "    .dataframe tbody tr th:only-of-type {\n",
              "        vertical-align: middle;\n",
              "    }\n",
              "\n",
              "    .dataframe tbody tr th {\n",
              "        vertical-align: top;\n",
              "    }\n",
              "\n",
              "    .dataframe thead th {\n",
              "        text-align: right;\n",
              "    }\n",
              "</style>\n",
              "<table border=\"1\" class=\"dataframe\">\n",
              "  <thead>\n",
              "    <tr style=\"text-align: right;\">\n",
              "      <th></th>\n",
              "      <th>image_name</th>\n",
              "      <th>tags</th>\n",
              "    </tr>\n",
              "  </thead>\n",
              "  <tbody>\n",
              "    <tr>\n",
              "      <th>0</th>\n",
              "      <td>test_0</td>\n",
              "      <td>clear primary</td>\n",
              "    </tr>\n",
              "    <tr>\n",
              "      <th>1</th>\n",
              "      <td>test_1</td>\n",
              "      <td>clear primary</td>\n",
              "    </tr>\n",
              "    <tr>\n",
              "      <th>2</th>\n",
              "      <td>test_2</td>\n",
              "      <td>partly_cloudy primary</td>\n",
              "    </tr>\n",
              "    <tr>\n",
              "      <th>3</th>\n",
              "      <td>test_3</td>\n",
              "      <td>clear cultivation primary water</td>\n",
              "    </tr>\n",
              "    <tr>\n",
              "      <th>4</th>\n",
              "      <td>test_4</td>\n",
              "      <td>agriculture clear primary road</td>\n",
              "    </tr>\n",
              "  </tbody>\n",
              "</table>\n",
              "</div>"
            ],
            "text/plain": [
              "  image_name                             tags\n",
              "0     test_0                    clear primary\n",
              "1     test_1                    clear primary\n",
              "2     test_2            partly_cloudy primary\n",
              "3     test_3  clear cultivation primary water\n",
              "4     test_4   agriculture clear primary road"
            ]
          },
          "metadata": {
            "tags": []
          },
          "execution_count": 382
        }
      ]
    },
    {
      "cell_type": "markdown",
      "metadata": {
        "id": "Ij2R7jpfWdeo",
        "colab_type": "text"
      },
      "source": [
        "## 2.4 Submission"
      ]
    },
    {
      "cell_type": "code",
      "metadata": {
        "id": "lWir9zDkQ899",
        "colab_type": "code",
        "colab": {}
      },
      "source": [
        "sample_df.to_csv('submission.csv', index=False)"
      ],
      "execution_count": 0,
      "outputs": []
    },
    {
      "cell_type": "code",
      "metadata": {
        "id": "WT2WSz7fTBtX",
        "colab_type": "code",
        "outputId": "773cacfc-7d44-4e28-a397-778ea7069eb4",
        "colab": {
          "base_uri": "https://localhost:8080/",
          "height": 69
        }
      },
      "source": [
        "! kaggle competitions submit planet-understanding-the-amazon-from-space -f {'submission.csv'} -m \"My submission\""
      ],
      "execution_count": 0,
      "outputs": [
        {
          "output_type": "stream",
          "text": [
            "Warning: Looks like you're using an outdated API Version, please consider updating (server 1.5.6 / client 1.5.4)\n",
            "100% 2.19M/2.19M [00:04<00:00, 550kB/s]\n",
            "Successfully submitted to Planet: Understanding the Amazon from Space"
          ],
          "name": "stdout"
        }
      ]
    },
    {
      "cell_type": "code",
      "metadata": {
        "id": "IA4s5cXVYGxB",
        "colab_type": "code",
        "colab": {}
      },
      "source": [
        ""
      ],
      "execution_count": 0,
      "outputs": []
    }
  ]
}